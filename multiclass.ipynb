{
 "cells": [
  {
   "cell_type": "code",
   "execution_count": 2,
   "metadata": {
    "collapsed": true
   },
   "outputs": [
    {
     "name": "stdout",
     "output_type": "stream",
     "text": [
      "8982 2246\n",
      "[1, 4, 686, 867, 558, 4, 37, 38, 309, 2276, 465, 893, 3541, 114, 2902, 69, 312, 35, 15, 7, 335, 1679, 21, 25, 3675, 2, 3498, 58, 69, 68, 493, 5, 25, 465, 377, 2430, 4, 293, 1172, 739, 4379, 8, 7, 1510, 1131, 13, 899, 6, 4, 990, 309, 415, 4519, 6920, 645, 3916, 791, 5, 4379, 75, 8, 24, 10, 1311, 4677, 5, 344, 756, 7, 2, 231, 9691, 2603, 1413, 43, 509, 43, 68, 327, 5, 2, 3498, 297, 638, 73, 430, 22, 4, 580, 7, 48, 41, 30, 2, 136, 4, 344, 298, 4, 580, 40, 344, 5078, 2, 291, 1488, 10, 3148, 5, 231, 6250, 1308, 5, 8250, 7043, 21, 2, 1622, 990, 309, 415, 265, 5992, 8945, 1149, 9118, 2, 4, 344, 9691, 756, 3729, 2, 4667, 2, 3249, 28, 10, 2190, 24, 77, 41, 682, 10, 4851, 2048, 7, 4, 5540, 2926, 1598, 22, 370, 5954, 7541, 5, 54, 5232, 1685, 2916, 10, 1571, 946, 60, 51, 3249, 5249, 4, 73, 2135, 669, 4, 580, 64, 10, 4280, 6, 2, 25, 482, 35, 150, 377, 2430, 7, 10, 2, 836, 2, 4730, 6920, 5, 4379, 2, 2, 3541, 8, 4, 344, 291, 2, 298, 4228, 6, 2223, 24, 2, 41, 343, 430, 210, 6, 3498, 297, 64, 10, 2281, 455, 5, 7003, 125, 222, 17, 12]\n"
     ]
    }
   ],
   "source": [
    "# 加载路透社的数据集\n",
    "from keras.datasets import reuters\n",
    "\n",
    "(train_data, train_labels), (test_data, test_labels) = reuters.load_data(num_words=10000)\n",
    "print(len(train_data), len(test_data))\n",
    "print(train_data[3])"
   ]
  },
  {
   "cell_type": "code",
   "execution_count": 3,
   "outputs": [
    {
     "name": "stdout",
     "output_type": "stream",
     "text": [
      "? the farmers home administration the u s agriculture department's farm lending arm could lose about seven billion dlrs in outstanding principal on its severely ? borrowers or about one fourth of its farm loan portfolio the general accounting office gao said in remarks prepared for delivery to the senate agriculture committee brian crowley senior associate director of gao also said that a preliminary analysis of proposed changes in ? financial eligibility standards indicated as many as one half of ? borrowers who received new loans from the agency in 1986 would be ? under the proposed system the agency has proposed evaluating ? credit using a variety of financial ratios instead of relying solely on ? ability senate agriculture committee chairman patrick leahy d vt ? the proposed eligibility changes telling ? administrator ? clark at a hearing that they would mark a dramatic shift in the agency's purpose away from being farmers' lender of last resort toward becoming a big city bank but clark defended the new regulations saying the agency had a responsibility to ? its 70 billion dlr loan portfolio in a ? yet ? manner crowley of gao ? ? arm said the proposed credit ? system attempted to ensure that ? would make loans only to borrowers who had a reasonable change of repaying their debt reuter 3\n"
     ]
    }
   ],
   "source": [
    "word_index = reuters.get_word_index()\n",
    "reverse_word_index = dict([(value, key) for (key, value) in word_index.items()])\n",
    "decoded_newswire = ' '.join([reverse_word_index.get(i - 3, '?') for i in train_data[3]])\n",
    "print(decoded_newswire)"
   ],
   "metadata": {
    "collapsed": false
   }
  },
  {
   "cell_type": "code",
   "execution_count": 7,
   "outputs": [],
   "source": [
    "import numpy as np\n",
    "\n",
    "\n",
    "def vectorize_sequences(sequences, dimension=10000):\n",
    "    # 创建一个形状为len(sequences), 10000的矩阵\n",
    "    results = np.zeros((len(sequences), dimension))\n",
    "    for i, sequence in enumerate(sequences):\n",
    "        results[i, sequence] = 1.\n",
    "    return results\n",
    "\n",
    "\n",
    "# 将测试和训练数据都进行one hot编码\n",
    "x_train = vectorize_sequences(train_data)\n",
    "x_test = vectorize_sequences(test_data)\n",
    "\n",
    "# 46个分类做one-hot编码\n",
    "def to_one_hot(labels, dimension=46):\n",
    "    results = np.zeros((len(labels), dimension))\n",
    "    for i, label in enumerate(labels):\n",
    "         results[i, label] = 1.\n",
    "    return results\n",
    "# 训练标签向量化\n",
    "one_hot_train_labels = to_one_hot(train_labels)\n",
    "# 测试标签向量化\n",
    "one_hot_test_labels = to_one_hot(test_labels)\n"
   ],
   "metadata": {
    "collapsed": false
   }
  },
  {
   "cell_type": "code",
   "execution_count": 10,
   "outputs": [
    {
     "name": "stdout",
     "output_type": "stream",
     "text": [
      "(1000, 10000) (7982, 10000)\n",
      "(1000, 46) (7982, 46)\n",
      "Epoch 1/20\n",
      "16/16 [==============================] - 1s 27ms/step - loss: 2.7951 - accuracy: 0.4915 - val_loss: 1.7930 - val_accuracy: 0.6480\n",
      "Epoch 2/20\n",
      "16/16 [==============================] - 0s 13ms/step - loss: 1.4240 - accuracy: 0.7098 - val_loss: 1.3117 - val_accuracy: 0.7090\n",
      "Epoch 3/20\n",
      "16/16 [==============================] - 0s 13ms/step - loss: 1.0336 - accuracy: 0.7821 - val_loss: 1.1235 - val_accuracy: 0.7530\n",
      "Epoch 4/20\n",
      "16/16 [==============================] - 0s 14ms/step - loss: 0.8120 - accuracy: 0.8281 - val_loss: 1.0149 - val_accuracy: 0.7850\n",
      "Epoch 5/20\n",
      "16/16 [==============================] - 0s 13ms/step - loss: 0.6486 - accuracy: 0.8651 - val_loss: 0.9446 - val_accuracy: 0.8020\n",
      "Epoch 6/20\n",
      "16/16 [==============================] - 0s 14ms/step - loss: 0.5182 - accuracy: 0.8975 - val_loss: 0.9031 - val_accuracy: 0.8100\n",
      "Epoch 7/20\n",
      "16/16 [==============================] - 0s 13ms/step - loss: 0.4194 - accuracy: 0.9166 - val_loss: 0.8964 - val_accuracy: 0.8120\n",
      "Epoch 8/20\n",
      "16/16 [==============================] - 0s 14ms/step - loss: 0.3440 - accuracy: 0.9287 - val_loss: 0.8849 - val_accuracy: 0.8150\n",
      "Epoch 9/20\n",
      "16/16 [==============================] - 0s 13ms/step - loss: 0.2818 - accuracy: 0.9390 - val_loss: 0.8800 - val_accuracy: 0.8150\n",
      "Epoch 10/20\n",
      "16/16 [==============================] - 0s 14ms/step - loss: 0.2402 - accuracy: 0.9451 - val_loss: 0.8818 - val_accuracy: 0.8190\n",
      "Epoch 11/20\n",
      "16/16 [==============================] - 0s 13ms/step - loss: 0.2108 - accuracy: 0.9470 - val_loss: 0.9145 - val_accuracy: 0.8140\n",
      "Epoch 12/20\n",
      "16/16 [==============================] - 0s 13ms/step - loss: 0.1808 - accuracy: 0.9505 - val_loss: 0.9309 - val_accuracy: 0.8140\n",
      "Epoch 13/20\n",
      "16/16 [==============================] - 0s 14ms/step - loss: 0.1635 - accuracy: 0.9536 - val_loss: 0.9572 - val_accuracy: 0.8060\n",
      "Epoch 14/20\n",
      "16/16 [==============================] - 0s 13ms/step - loss: 0.1511 - accuracy: 0.9545 - val_loss: 0.9941 - val_accuracy: 0.8100\n",
      "Epoch 15/20\n",
      "16/16 [==============================] - 0s 14ms/step - loss: 0.1364 - accuracy: 0.9575 - val_loss: 0.9895 - val_accuracy: 0.8140\n",
      "Epoch 16/20\n",
      "16/16 [==============================] - 0s 13ms/step - loss: 0.1303 - accuracy: 0.9554 - val_loss: 1.0198 - val_accuracy: 0.8130\n",
      "Epoch 17/20\n",
      "16/16 [==============================] - 0s 13ms/step - loss: 0.1285 - accuracy: 0.9555 - val_loss: 1.0019 - val_accuracy: 0.8140\n",
      "Epoch 18/20\n",
      "16/16 [==============================] - 0s 13ms/step - loss: 0.1181 - accuracy: 0.9593 - val_loss: 1.0487 - val_accuracy: 0.7990\n",
      "Epoch 19/20\n",
      "16/16 [==============================] - 0s 13ms/step - loss: 0.1128 - accuracy: 0.9573 - val_loss: 1.0941 - val_accuracy: 0.8050\n",
      "Epoch 20/20\n",
      "16/16 [==============================] - 0s 14ms/step - loss: 0.1116 - accuracy: 0.9583 - val_loss: 1.0966 - val_accuracy: 0.7920\n"
     ]
    }
   ],
   "source": [
    "from keras import models\n",
    "from keras import layers\n",
    "\n",
    "model = models.Sequential()\n",
    "model.add(layers.Dense(64, activation='relu', input_shape=(10000, )))\n",
    "model.add(layers.Dense(64, activation='relu'))\n",
    "model.add(layers.Dense(46, activation='softmax'))\n",
    "\n",
    "x_val = x_train[:1000]\n",
    "partial_x_train = x_train[1000:]\n",
    "print(x_val.shape, partial_x_train.shape)\n",
    "y_val = one_hot_train_labels[:1000]\n",
    "partial_y_train = one_hot_train_labels[1000:]\n",
    "print(y_val.shape, partial_y_train.shape)\n",
    "model.compile(optimizer='rmsprop', loss='categorical_crossentropy', metrics=['accuracy'])\n",
    "history = model.fit(partial_x_train, partial_y_train, epochs=20 ,batch_size=512, validation_data=(x_val, y_val))"
   ],
   "metadata": {
    "collapsed": false
   }
  },
  {
   "cell_type": "code",
   "execution_count": 11,
   "outputs": [
    {
     "data": {
      "text/plain": "<Figure size 432x288 with 1 Axes>",
      "image/png": "[encoded data removed]"
     },
     "metadata": {
      "needs_background": "light"
     },
     "output_type": "display_data"
    }
   ],
   "source": [
    "import matplotlib.pyplot as plt\n",
    "\n",
    "\n",
    "def print_train_val_loss(history_dict):\n",
    "    plt.clf()\n",
    "    loss_values = history_dict['loss']\n",
    "    val_loss_values = history_dict['val_loss']\n",
    "    epochs = range(1, len(loss_values) + 1)\n",
    "    plt.plot(epochs, loss_values, 'bo', label='Training loss')\n",
    "    plt.plot(epochs, val_loss_values, 'b', label='Validation loss')\n",
    "    plt.title('Training and validation loss')\n",
    "    plt.xlabel('Epochs')\n",
    "    plt.ylabel('Loss')\n",
    "    plt.legend()\n",
    "    plt.show()\n",
    "\n",
    "\n",
    "print_train_val_loss(history.history)"
   ],
   "metadata": {
    "collapsed": false
   }
  },
  {
   "cell_type": "code",
   "execution_count": 12,
   "outputs": [
    {
     "data": {
      "text/plain": "<Figure size 432x288 with 1 Axes>",
      "image/png": "[encoded data removed]"
     },
     "metadata": {
      "needs_background": "light"
     },
     "output_type": "display_data"
    }
   ],
   "source": [
    "def print_train_val_acc(history_dict):\n",
    "    plt.clf()\n",
    "    acc = history_dict['accuracy']\n",
    "    val_acc = history_dict['val_accuracy']\n",
    "    epochs = range(1, len(val_acc) + 1)\n",
    "    plt.plot(epochs, acc, 'bo', label='Training acc')\n",
    "    plt.plot(epochs, val_acc, 'b', label='Validation acc')\n",
    "    plt.title('Training and validation accuracy')\n",
    "    plt.xlabel('Epochs')\n",
    "    plt.ylabel('Accuracy')\n",
    "    plt.legend()\n",
    "    plt.show()\n",
    "\n",
    "\n",
    "print_train_val_acc(history.history)"
   ],
   "metadata": {
    "collapsed": false
   }
  },
  {
   "cell_type": "code",
   "execution_count": 20,
   "outputs": [
    {
     "name": "stdout",
     "output_type": "stream",
     "text": [
      "Epoch 1/9\n",
      "16/16 [==============================] - 1s 22ms/step - loss: 2.5743 - accuracy: 0.5368 - val_loss: 1.6830 - val_accuracy: 0.6590\n",
      "Epoch 2/9\n",
      "16/16 [==============================] - 0s 14ms/step - loss: 1.3733 - accuracy: 0.7127 - val_loss: 1.3004 - val_accuracy: 0.7130\n",
      "Epoch 3/9\n",
      "16/16 [==============================] - 0s 14ms/step - loss: 1.0326 - accuracy: 0.7765 - val_loss: 1.1236 - val_accuracy: 0.7600\n",
      "Epoch 4/9\n",
      "16/16 [==============================] - 0s 14ms/step - loss: 0.8111 - accuracy: 0.8270 - val_loss: 1.0383 - val_accuracy: 0.7820\n",
      "Epoch 5/9\n",
      "16/16 [==============================] - 0s 14ms/step - loss: 0.6456 - accuracy: 0.8607 - val_loss: 0.9910 - val_accuracy: 0.7800\n",
      "Epoch 6/9\n",
      "16/16 [==============================] - 0s 14ms/step - loss: 0.5191 - accuracy: 0.8886 - val_loss: 0.9216 - val_accuracy: 0.7990\n",
      "Epoch 7/9\n",
      "16/16 [==============================] - 0s 13ms/step - loss: 0.4179 - accuracy: 0.9108 - val_loss: 0.9065 - val_accuracy: 0.8100\n",
      "Epoch 8/9\n",
      "16/16 [==============================] - 0s 14ms/step - loss: 0.3371 - accuracy: 0.9258 - val_loss: 0.9084 - val_accuracy: 0.8020\n",
      "Epoch 9/9\n",
      "16/16 [==============================] - 0s 14ms/step - loss: 0.2831 - accuracy: 0.9372 - val_loss: 0.9322 - val_accuracy: 0.8080\n",
      "71/71 [==============================] - 0s 1ms/step - loss: 1.0008 - accuracy: 0.7792\n",
      "[1.0008317232131958, 0.7791629433631897]\n"
     ]
    }
   ],
   "source": [
    "# 预计第九轮后会overfit，重新训练一个模型\n",
    "model = models.Sequential()\n",
    "model.add(layers.Dense(64, activation='relu', input_shape=(10000, )))\n",
    "model.add(layers.Dense(64, activation='relu'))\n",
    "model.add(layers.Dense(46, activation='softmax'))\n",
    "model.compile(optimizer='rmsprop', loss='categorical_crossentropy', metrics=['accuracy'])\n",
    "model.fit(partial_x_train, partial_y_train, epochs=9, batch_size=512, validation_data=(x_val, y_val))\n",
    "results = model.evaluate(x_test, one_hot_test_labels)\n",
    "print(results)"
   ],
   "metadata": {
    "collapsed": false
   }
  },
  {
   "cell_type": "code",
   "execution_count": 17,
   "outputs": [
    {
     "name": "stdout",
     "output_type": "stream",
     "text": [
      "0.1803205699020481\n"
     ]
    }
   ],
   "source": [
    "# 上述分类精度达到80%和完全随机的分类的18%相比非常不错\n",
    "import copy\n",
    "test_labels_copy = copy.copy(test_labels)\n",
    "np.random.shuffle(test_labels_copy)\n",
    "hits_array = np.array(test_labels) == np.array(test_labels_copy)\n",
    "print(float(np.sum(hits_array))/ len(test_labels))\n"
   ],
   "metadata": {
    "collapsed": false
   }
  },
  {
   "cell_type": "code",
   "execution_count": 21,
   "outputs": [
    {
     "name": "stdout",
     "output_type": "stream",
     "text": [
      "(46,)\n",
      "1.0000001\n",
      "[3.60454811e-04 2.82839785e-04 5.01820723e-05 2.51792341e-01\n",
      " 6.66751862e-01 3.98236152e-04 4.86558565e-04 6.03019325e-05\n",
      " 1.71487052e-02 8.95330450e-05 3.07396753e-04 1.72960199e-02\n",
      " 3.88674671e-04 5.13609173e-03 8.27534939e-04 9.98873747e-06\n",
      " 5.50918374e-03 2.06855033e-03 8.22100628e-05 3.38137383e-03\n",
      " 1.17437607e-02 1.34355109e-03 2.16468197e-05 3.65324062e-03\n",
      " 1.11843641e-04 2.67120718e-04 1.04135315e-05 5.30190358e-04\n",
      " 3.07009148e-04 6.46086119e-04 2.27510376e-04 9.60043340e-04\n",
      " 7.91598577e-04 5.32558188e-05 1.05084025e-03 1.12185699e-04\n",
      " 1.22515019e-03 1.24334020e-03 4.38537536e-04 1.51143805e-03\n",
      " 6.53572322e-04 2.78244261e-04 1.69259700e-04 1.39023454e-04\n",
      " 3.66337226e-05 4.65308876e-05]\n",
      "4\n"
     ]
    }
   ],
   "source": [
    "predictions = model.predict(x_test)\n",
    "# 结果应该是一个长度为46的向量，代表每个分类可能的概率\n",
    "print(predictions[0].shape)\n",
    "# 确保该向量之和只有1\n",
    "print(np.sum(predictions[0]))\n",
    "\n",
    "print(predictions[0])\n",
    "print(np.argmax(predictions[0]))"
   ],
   "metadata": {
    "collapsed": false
   }
  }
 ],
 "metadata": {
  "kernelspec": {
   "display_name": "Python 3",
   "language": "python",
   "name": "python3"
  },
  "language_info": {
   "codemirror_mode": {
    "name": "ipython",
    "version": 2
   },
   "file_extension": ".py",
   "mimetype": "text/x-python",
   "name": "python",
   "nbconvert_exporter": "python",
   "pygments_lexer": "ipython2",
   "version": "2.7.6"
  }
 },
 "nbformat": 4,
 "nbformat_minor": 0
}
