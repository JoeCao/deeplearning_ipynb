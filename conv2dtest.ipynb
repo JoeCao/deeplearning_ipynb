{
 "cells": [
  {
   "cell_type": "code",
   "execution_count": 36,
   "metadata": {
    "collapsed": true,
    "ExecuteTime": {
     "start_time": "2023-04-27T13:47:04.440278Z",
     "end_time": "2023-04-27T13:47:04.495253Z"
    }
   },
   "outputs": [
    {
     "name": "stdout",
     "output_type": "stream",
     "text": [
      "Model: \"sequential_3\"\n",
      "_________________________________________________________________\n",
      " Layer (type)                Output Shape              Param #   \n",
      "=================================================================\n",
      " conv2d_9 (Conv2D)           (None, 26, 26, 32)        320       \n",
      "                                                                 \n",
      " max_pooling2d_6 (MaxPooling  (None, 13, 13, 32)       0         \n",
      " 2D)                                                             \n",
      "                                                                 \n",
      " conv2d_10 (Conv2D)          (None, 11, 11, 64)        18496     \n",
      "                                                                 \n",
      " max_pooling2d_7 (MaxPooling  (None, 5, 5, 64)         0         \n",
      " 2D)                                                             \n",
      "                                                                 \n",
      " conv2d_11 (Conv2D)          (None, 3, 3, 64)          36928     \n",
      "                                                                 \n",
      " flatten_2 (Flatten)         (None, 576)               0         \n",
      "                                                                 \n",
      " dense_4 (Dense)             (None, 64)                36928     \n",
      "                                                                 \n",
      " dense_5 (Dense)             (None, 10)                650       \n",
      "                                                                 \n",
      "=================================================================\n",
      "Total params: 93,322\n",
      "Trainable params: 93,322\n",
      "Non-trainable params: 0\n",
      "_________________________________________________________________\n"
     ]
    }
   ],
   "source": [
    "from keras import layers\n",
    "from keras import models\n",
    "\n",
    "model = models.Sequential()\n",
    "model.add(layers.Conv2D(32, (3, 3), activation='relu', input_shape=(28, 28, 1)))\n",
    "model.add(layers.MaxPooling2D((2, 2)))\n",
    "model.add(layers.Conv2D(64, (3, 3), activation='relu'))\n",
    "model.add(layers.MaxPooling2D((2, 2)))\n",
    "model.add(layers.Conv2D(64, (3, 3), activation='relu'))\n",
    "model.add(layers.Flatten())\n",
    "model.add(layers.Dense(64, activation='relu'))\n",
    "model.add(layers.Dense(10, activation='softmax'))\n",
    "model.summary()\n"
   ]
  },
  {
   "cell_type": "code",
   "execution_count": 37,
   "outputs": [
    {
     "name": "stdout",
     "output_type": "stream",
     "text": [
      "(60000, 28, 28)\n",
      "Epoch 1/5\n",
      "938/938 [==============================] - 20s 21ms/step - loss: 0.1755 - accuracy: 0.9457\n",
      "Epoch 2/5\n",
      "938/938 [==============================] - 21s 22ms/step - loss: 0.0476 - accuracy: 0.9852\n",
      "Epoch 3/5\n",
      "938/938 [==============================] - 20s 22ms/step - loss: 0.0338 - accuracy: 0.9894\n",
      "Epoch 4/5\n",
      "938/938 [==============================] - 20s 22ms/step - loss: 0.0254 - accuracy: 0.9922\n",
      "Epoch 5/5\n",
      "938/938 [==============================] - 21s 22ms/step - loss: 0.0201 - accuracy: 0.9938\n",
      "313/313 [==============================] - 3s 8ms/step - loss: 0.0291 - accuracy: 0.9904\n"
     ]
    },
    {
     "data": {
      "text/plain": "0.9904000163078308"
     },
     "execution_count": 37,
     "metadata": {},
     "output_type": "execute_result"
    }
   ],
   "source": [
    "from keras.utils.np_utils import to_categorical\n",
    "from keras.datasets import mnist\n",
    "\n",
    "(train_images, train_labels), (test_images, test_labels) = mnist.load_data()\n",
    "print(train_images.shape)\n",
    "train_images = train_images.reshape((60000, 28, 28, 1))\n",
    "train_images = train_images.astype('float32') / 255\n",
    "test_images = test_images.reshape((10000, 28, 28, 1))\n",
    "test_images = test_images.astype('float32') / 255\n",
    "# 使用内置函数做one-hot编码\n",
    "train_labels = to_categorical(train_labels)\n",
    "test_labels = to_categorical(test_labels)\n",
    "\n",
    "model.compile(optimizer='rmsprop', loss='categorical_crossentropy', metrics=['accuracy'])\n",
    "history = model.fit(train_images, train_labels, epochs=5, batch_size=64)\n",
    "\n",
    "test_loss, test_acc = model.evaluate(test_images, test_labels)\n",
    "test_acc"
   ],
   "metadata": {
    "collapsed": false,
    "ExecuteTime": {
     "start_time": "2023-04-27T13:47:04.500130Z",
     "end_time": "2023-04-27T13:48:50.061107Z"
    }
   }
  },
  {
   "cell_type": "code",
   "execution_count": 38,
   "outputs": [
    {
     "data": {
      "text/plain": "<Figure size 432x288 with 1 Axes>",
      "image/png": "[encoded data removed]"
     },
     "metadata": {
      "needs_background": "light"
     },
     "output_type": "display_data"
    }
   ],
   "source": [
    "import matplotlib.pyplot as plt\n",
    "\n",
    "\n",
    "def print_train_val_loss(history_dict):\n",
    "    plt.clf()\n",
    "    loss_values = history_dict['loss']\n",
    "    # val_loss_values = history_dict['val_loss']\n",
    "    epochs = range(1, len(loss_values) + 1)\n",
    "    plt.plot(epochs, loss_values, 'bo', label='Training loss')\n",
    "    # plt.plot(epochs, val_loss_values, 'b', label='Validation loss')\n",
    "    plt.title('Training and validation loss')\n",
    "    plt.xlabel('Epochs')\n",
    "    plt.ylabel('Loss')\n",
    "    plt.legend()\n",
    "    plt.show()\n",
    "\n",
    "\n",
    "print_train_val_loss(history.history)"
   ],
   "metadata": {
    "collapsed": false,
    "ExecuteTime": {
     "start_time": "2023-04-27T13:48:50.068701Z",
     "end_time": "2023-04-27T13:48:50.204412Z"
    }
   }
  },
  {
   "cell_type": "code",
   "execution_count": 39,
   "outputs": [
    {
     "data": {
      "text/plain": "<Figure size 432x288 with 1 Axes>",
      "image/png": "[encoded data removed]"
     },
     "metadata": {
      "needs_background": "light"
     },
     "output_type": "display_data"
    }
   ],
   "source": [
    "def print_train_val_acc(history_dict):\n",
    "    plt.clf()\n",
    "    acc = history_dict['accuracy']\n",
    "    # val_acc = history_dict['val_accuracy']\n",
    "    epochs = range(1, len(acc) + 1)\n",
    "    plt.plot(epochs, acc, 'bo', label='Training acc')\n",
    "    # plt.plot(epochs, val_acc, 'b', label='Validation acc')\n",
    "    plt.title('Training and validation accuracy')\n",
    "    plt.xlabel('Epochs')\n",
    "    plt.ylabel('Accuracy')\n",
    "    plt.legend()\n",
    "    plt.show()\n",
    "\n",
    "\n",
    "print_train_val_acc(history.history)"
   ],
   "metadata": {
    "collapsed": false,
    "ExecuteTime": {
     "start_time": "2023-04-27T13:48:50.208348Z",
     "end_time": "2023-04-27T13:48:50.330890Z"
    }
   }
  },
  {
   "cell_type": "code",
   "execution_count": 44,
   "outputs": [
    {
     "data": {
      "text/plain": "<Figure size 432x288 with 1 Axes>",
      "image/png": "[encoded data removed]"
     },
     "metadata": {
      "needs_background": "light"
     },
     "output_type": "display_data"
    },
    {
     "name": "stdout",
     "output_type": "stream",
     "text": [
      "[[3.9839122e-11 1.4612639e-08 2.2272171e-09 4.5495068e-05 1.8017515e-08\n",
      "  2.7782715e-05 1.3875163e-08 2.5480096e-09 9.9992657e-01 8.2624389e-08]]\n",
      "8\n"
     ]
    }
   ],
   "source": [
    "# 使用训练好的模型，通过样例图片来测试效果\n",
    "from PIL import Image, ImageOps\n",
    "import numpy as np\n",
    "\n",
    "# 读取图片并调整大小\n",
    "img = Image.open('./data/handwrite/8.jpg').resize((28, 28))\n",
    "# 样例图片是白底黑字，需要做反值运算为黑底白字\n",
    "inverted_img = ImageOps.invert(img)\n",
    "\n",
    "\n",
    "# 将图片转换为numpy数组，并添加通道维度\n",
    "img_array = np.asarray(inverted_img.convert('L'))\n",
    "img_array = np.expand_dims(img_array, axis=-1)\n",
    "\n",
    "# 归一化像素值\n",
    "img_array = img_array / 255.0\n",
    "plt.imshow(img_array, cmap=plt.cm.binary)\n",
    "plt.show()\n",
    "# 将图片输入模型进行预测\n",
    "predictions = model.predict(np.array([img_array]))\n",
    "\n",
    "# 打印预测结果，输出是10个元素向量，每个元素代表对应数字的概率\n",
    "print(predictions)\n",
    "# 最高概率的即预测结果\n",
    "print(np.argmax(predictions[0]))\n",
    "\n"
   ],
   "metadata": {
    "collapsed": false,
    "ExecuteTime": {
     "start_time": "2023-04-27T15:19:40.755467Z",
     "end_time": "2023-04-27T15:19:40.893550Z"
    }
   }
  }
 ],
 "metadata": {
  "kernelspec": {
   "display_name": "Python 3",
   "language": "python",
   "name": "python3"
  },
  "language_info": {
   "codemirror_mode": {
    "name": "ipython",
    "version": 2
   },
   "file_extension": ".py",
   "mimetype": "text/x-python",
   "name": "python",
   "nbconvert_exporter": "python",
   "pygments_lexer": "ipython2",
   "version": "2.7.6"
  }
 },
 "nbformat": 4,
 "nbformat_minor": 0
}
